{
 "cells": [
  {
   "cell_type": "code",
   "execution_count": 1,
   "metadata": {},
   "outputs": [],
   "source": [
    "%matplotlib inline\n",
    "import numpy as np\n",
    "import pandas as pd\n",
    "\n",
    "import ipywidgets as widgets\n",
    "import matplotlib.pyplot as plt\n",
    "\n",
    "from risk_distributions import EnsembleDistribution\n",
    "from vivarium_public_health.dataset_manager import Artifact\n",
    "\n",
    "from vivarium_inputs.interface import get_measure"
   ]
  },
  {
   "cell_type": "markdown",
   "metadata": {},
   "source": [
    "## We will build the ensemble distribution from artifact data.\n",
    "You could also pull data using get_measure from vivarium_inputs.interface. "
   ]
  },
  {
   "cell_type": "code",
   "execution_count": 3,
   "metadata": {},
   "outputs": [],
   "source": [
    "path = '/share/costeffectiveness/artifacts/obesity/obesity.hdf'\n",
    "artifact = Artifact(path)"
   ]
  },
  {
   "cell_type": "code",
   "execution_count": 4,
   "metadata": {
    "scrolled": true
   },
   "outputs": [
    {
     "name": "stdout",
     "output_type": "stream",
     "text": [
      "Artifact containing the following keys:\n",
      "metadata\n",
      "\tkeyspace\n",
      "\tversions\n",
      "\tlocations\n",
      "population\n",
      "\tdemographic_dimensions\n",
      "\tstructure\n",
      "\ttheoretical_minimum_risk_life_expectancy\n",
      "\tage_bins\n",
      "cause\n",
      "\tall_causes\n",
      "\t\tcause_specific_mortality\n",
      "\tischemic_heart_disease\n",
      "\t\trestrictions\n",
      "\t\tcause_specific_mortality\n",
      "\t\tprevalence\n",
      "\t\tdisability_weight\n",
      "\t\texcess_mortality\n",
      "\t\tincidence\n",
      "\tischemic_stroke\n",
      "\t\trestrictions\n",
      "\t\tcause_specific_mortality\n",
      "\t\tprevalence\n",
      "\t\tdisability_weight\n",
      "\t\texcess_mortality\n",
      "\t\tincidence\n",
      "\tdiabetes_mellitus_type_2\n",
      "\t\trestrictions\n",
      "\t\tcause_specific_mortality\n",
      "\t\tprevalence\n",
      "\t\tdisability_weight\n",
      "\t\texcess_mortality\n",
      "\t\tincidence\n",
      "\tasthma\n",
      "\t\trestrictions\n",
      "\t\tcause_specific_mortality\n",
      "\t\tprevalence\n",
      "\t\tdisability_weight\n",
      "\t\texcess_mortality\n",
      "\t\tincidence\n",
      "\tgout\n",
      "\t\trestrictions\n",
      "\t\tprevalence\n",
      "\t\tdisability_weight\n",
      "\t\tincidence\n",
      "\tosteoarthritis\n",
      "\t\trestrictions\n",
      "\t\tprevalence\n",
      "\t\tdisability_weight\n",
      "\t\tincidence\n",
      "\tchronic_kidney_disease_due_to_hypertension\n",
      "\t\trestrictions\n",
      "\t\tcause_specific_mortality\n",
      "\t\tprevalence\n",
      "\t\tdisability_weight\n",
      "\t\texcess_mortality\n",
      "\t\tincidence\n",
      "\tchronic_kidney_disease_due_to_glomerulonephritis\n",
      "\t\trestrictions\n",
      "\t\tcause_specific_mortality\n",
      "\t\tprevalence\n",
      "\t\tdisability_weight\n",
      "\t\texcess_mortality\n",
      "\t\tincidence\n",
      "\tchronic_kidney_disease_due_to_other_and_unspecified_causes\n",
      "\t\trestrictions\n",
      "\t\tcause_specific_mortality\n",
      "\t\tprevalence\n",
      "\t\tdisability_weight\n",
      "\t\texcess_mortality\n",
      "\t\tincidence\n",
      "\tchronic_kidney_disease_due_to_diabetes_mellitus_type_2\n",
      "\t\trestrictions\n",
      "\t\tcause_specific_mortality\n",
      "\t\tprevalence\n",
      "\t\tdisability_weight\n",
      "\t\texcess_mortality\n",
      "\t\tincidence\n",
      "risk_factor\n",
      "\thigh_body_mass_index_in_adults\n",
      "\t\texposure\n",
      "\t\tdistribution\n",
      "\t\texposure_standard_deviation\n",
      "\t\texposure_distribution_weights\n",
      "\t\tpopulation_attributable_fraction\n",
      "\t\ttmred\n",
      "\t\trelative_risk_scalar\n",
      "\t\trelative_risk\n",
      "healthcare_entity\n",
      "\toutpatient_visits\n",
      "\t\tutilization\n",
      "\t\tcost\n",
      "\tinpatient_visits\n",
      "\t\tcost\n",
      "\n"
     ]
    }
   ],
   "source": [
    "print(artifact)"
   ]
  },
  {
   "cell_type": "code",
   "execution_count": 6,
   "metadata": {
    "scrolled": true
   },
   "outputs": [],
   "source": [
    "# Pull data from the artifact\n",
    "exp_mean = artifact.load('risk_factor.high_body_mass_index_in_adults.exposure')\n",
    "exp_std = artifact.load('risk_factor.high_body_mass_index_in_adults.exposure_standard_deviation')\n",
    "exp_weights = artifact.load('risk_factor.high_body_mass_index_in_adults.exposure_distribution_weights')\n",
    "\n",
    "# Format the data how EnsembleDistribution expects it\n",
    "index_columns = ['sex', 'age_group_start', 'age_group_end', 'year_start', 'year_end']\n",
    "\n",
    "exp_mean = exp_mean.loc[exp_mean.draw == 0]\n",
    "exp_mean.drop(['draw', 'location', 'parameter'], 'columns', inplace=True)\n",
    "exp_mean = exp_mean.set_index(index_columns)['value']\n",
    "\n",
    "exp_std = exp_std.loc[exp_std.draw == 0]\n",
    "exp_std.drop(['draw', 'location'], 'columns', inplace=True)\n",
    "exp_std = exp_std.set_index(index_columns)['value']\n",
    "\n",
    "exp_weights.drop(['location'], 'columns', inplace=True)\n",
    "exp_weights.set_index(index_columns + ['parameter'], inplace=True)\n",
    "exp_weights = exp_weights.unstack()\n",
    "exp_weights.columns = exp_weights.columns.droplevel(0)\n",
    "exp_weights.columns.name = None\n",
    "exp_weights.drop('glnorm', 'columns', inplace=True)   # not a distribution we consider for Ensemble\n",
    "                                                      # you may not have this one."
   ]
  },
  {
   "cell_type": "markdown",
   "metadata": {},
   "source": [
    "#### Correct data format"
   ]
  },
  {
   "cell_type": "code",
   "execution_count": 7,
   "metadata": {},
   "outputs": [
    {
     "data": {
      "text/plain": [
       "sex     age_group_start  age_group_end  year_start  year_end\n",
       "Female  0.0              0.019178       1990        1991        0.0\n",
       "                                        1991        1992        0.0\n",
       "                                        1992        1993        0.0\n",
       "                                        1993        1994        0.0\n",
       "                                        1994        1995        0.0\n",
       "Name: value, dtype: float64"
      ]
     },
     "execution_count": 7,
     "metadata": {},
     "output_type": "execute_result"
    }
   ],
   "source": [
    "exp_mean.head()"
   ]
  },
  {
   "cell_type": "code",
   "execution_count": 8,
   "metadata": {},
   "outputs": [
    {
     "data": {
      "text/plain": [
       "sex     age_group_start  age_group_end  year_start  year_end\n",
       "Female  0.0              0.019178       1990        1991        0.0\n",
       "                                        1991        1992        0.0\n",
       "                                        1992        1993        0.0\n",
       "                                        1993        1994        0.0\n",
       "                                        1994        1995        0.0\n",
       "Name: value, dtype: float64"
      ]
     },
     "execution_count": 8,
     "metadata": {},
     "output_type": "execute_result"
    }
   ],
   "source": [
    "exp_std.head()"
   ]
  },
  {
   "cell_type": "code",
   "execution_count": 9,
   "metadata": {},
   "outputs": [
    {
     "data": {
      "text/html": [
       "<div>\n",
       "<style scoped>\n",
       "    .dataframe tbody tr th:only-of-type {\n",
       "        vertical-align: middle;\n",
       "    }\n",
       "\n",
       "    .dataframe tbody tr th {\n",
       "        vertical-align: top;\n",
       "    }\n",
       "\n",
       "    .dataframe thead th {\n",
       "        text-align: right;\n",
       "    }\n",
       "</style>\n",
       "<table border=\"1\" class=\"dataframe\">\n",
       "  <thead>\n",
       "    <tr style=\"text-align: right;\">\n",
       "      <th></th>\n",
       "      <th></th>\n",
       "      <th></th>\n",
       "      <th></th>\n",
       "      <th></th>\n",
       "      <th>betasr</th>\n",
       "      <th>exp</th>\n",
       "      <th>gamma</th>\n",
       "      <th>gumbel</th>\n",
       "      <th>invgamma</th>\n",
       "      <th>invweibull</th>\n",
       "      <th>llogis</th>\n",
       "      <th>lnorm</th>\n",
       "      <th>mgamma</th>\n",
       "      <th>mgumbel</th>\n",
       "      <th>norm</th>\n",
       "      <th>weibull</th>\n",
       "    </tr>\n",
       "    <tr>\n",
       "      <th>sex</th>\n",
       "      <th>age_group_start</th>\n",
       "      <th>age_group_end</th>\n",
       "      <th>year_start</th>\n",
       "      <th>year_end</th>\n",
       "      <th></th>\n",
       "      <th></th>\n",
       "      <th></th>\n",
       "      <th></th>\n",
       "      <th></th>\n",
       "      <th></th>\n",
       "      <th></th>\n",
       "      <th></th>\n",
       "      <th></th>\n",
       "      <th></th>\n",
       "      <th></th>\n",
       "      <th></th>\n",
       "    </tr>\n",
       "  </thead>\n",
       "  <tbody>\n",
       "    <tr>\n",
       "      <th rowspan=\"5\" valign=\"top\">Female</th>\n",
       "      <th rowspan=\"5\" valign=\"top\">0.0</th>\n",
       "      <th rowspan=\"5\" valign=\"top\">0.019178</th>\n",
       "      <th>1990</th>\n",
       "      <th>1991</th>\n",
       "      <td>0.0</td>\n",
       "      <td>0.0</td>\n",
       "      <td>0.0</td>\n",
       "      <td>0.0</td>\n",
       "      <td>0.0</td>\n",
       "      <td>0.0</td>\n",
       "      <td>0.0</td>\n",
       "      <td>0.0</td>\n",
       "      <td>0.0</td>\n",
       "      <td>0.0</td>\n",
       "      <td>0.0</td>\n",
       "      <td>0.0</td>\n",
       "    </tr>\n",
       "    <tr>\n",
       "      <th>1991</th>\n",
       "      <th>1992</th>\n",
       "      <td>0.0</td>\n",
       "      <td>0.0</td>\n",
       "      <td>0.0</td>\n",
       "      <td>0.0</td>\n",
       "      <td>0.0</td>\n",
       "      <td>0.0</td>\n",
       "      <td>0.0</td>\n",
       "      <td>0.0</td>\n",
       "      <td>0.0</td>\n",
       "      <td>0.0</td>\n",
       "      <td>0.0</td>\n",
       "      <td>0.0</td>\n",
       "    </tr>\n",
       "    <tr>\n",
       "      <th>1992</th>\n",
       "      <th>1993</th>\n",
       "      <td>0.0</td>\n",
       "      <td>0.0</td>\n",
       "      <td>0.0</td>\n",
       "      <td>0.0</td>\n",
       "      <td>0.0</td>\n",
       "      <td>0.0</td>\n",
       "      <td>0.0</td>\n",
       "      <td>0.0</td>\n",
       "      <td>0.0</td>\n",
       "      <td>0.0</td>\n",
       "      <td>0.0</td>\n",
       "      <td>0.0</td>\n",
       "    </tr>\n",
       "    <tr>\n",
       "      <th>1993</th>\n",
       "      <th>1994</th>\n",
       "      <td>0.0</td>\n",
       "      <td>0.0</td>\n",
       "      <td>0.0</td>\n",
       "      <td>0.0</td>\n",
       "      <td>0.0</td>\n",
       "      <td>0.0</td>\n",
       "      <td>0.0</td>\n",
       "      <td>0.0</td>\n",
       "      <td>0.0</td>\n",
       "      <td>0.0</td>\n",
       "      <td>0.0</td>\n",
       "      <td>0.0</td>\n",
       "    </tr>\n",
       "    <tr>\n",
       "      <th>1994</th>\n",
       "      <th>1995</th>\n",
       "      <td>0.0</td>\n",
       "      <td>0.0</td>\n",
       "      <td>0.0</td>\n",
       "      <td>0.0</td>\n",
       "      <td>0.0</td>\n",
       "      <td>0.0</td>\n",
       "      <td>0.0</td>\n",
       "      <td>0.0</td>\n",
       "      <td>0.0</td>\n",
       "      <td>0.0</td>\n",
       "      <td>0.0</td>\n",
       "      <td>0.0</td>\n",
       "    </tr>\n",
       "  </tbody>\n",
       "</table>\n",
       "</div>"
      ],
      "text/plain": [
       "                                                          betasr  exp  gamma  \\\n",
       "sex    age_group_start age_group_end year_start year_end                       \n",
       "Female 0.0             0.019178      1990       1991         0.0  0.0    0.0   \n",
       "                                     1991       1992         0.0  0.0    0.0   \n",
       "                                     1992       1993         0.0  0.0    0.0   \n",
       "                                     1993       1994         0.0  0.0    0.0   \n",
       "                                     1994       1995         0.0  0.0    0.0   \n",
       "\n",
       "                                                          gumbel  invgamma  \\\n",
       "sex    age_group_start age_group_end year_start year_end                     \n",
       "Female 0.0             0.019178      1990       1991         0.0       0.0   \n",
       "                                     1991       1992         0.0       0.0   \n",
       "                                     1992       1993         0.0       0.0   \n",
       "                                     1993       1994         0.0       0.0   \n",
       "                                     1994       1995         0.0       0.0   \n",
       "\n",
       "                                                          invweibull  llogis  \\\n",
       "sex    age_group_start age_group_end year_start year_end                       \n",
       "Female 0.0             0.019178      1990       1991             0.0     0.0   \n",
       "                                     1991       1992             0.0     0.0   \n",
       "                                     1992       1993             0.0     0.0   \n",
       "                                     1993       1994             0.0     0.0   \n",
       "                                     1994       1995             0.0     0.0   \n",
       "\n",
       "                                                          lnorm  mgamma  \\\n",
       "sex    age_group_start age_group_end year_start year_end                  \n",
       "Female 0.0             0.019178      1990       1991        0.0     0.0   \n",
       "                                     1991       1992        0.0     0.0   \n",
       "                                     1992       1993        0.0     0.0   \n",
       "                                     1993       1994        0.0     0.0   \n",
       "                                     1994       1995        0.0     0.0   \n",
       "\n",
       "                                                          mgumbel  norm  \\\n",
       "sex    age_group_start age_group_end year_start year_end                  \n",
       "Female 0.0             0.019178      1990       1991          0.0   0.0   \n",
       "                                     1991       1992          0.0   0.0   \n",
       "                                     1992       1993          0.0   0.0   \n",
       "                                     1993       1994          0.0   0.0   \n",
       "                                     1994       1995          0.0   0.0   \n",
       "\n",
       "                                                          weibull  \n",
       "sex    age_group_start age_group_end year_start year_end           \n",
       "Female 0.0             0.019178      1990       1991          0.0  \n",
       "                                     1991       1992          0.0  \n",
       "                                     1992       1993          0.0  \n",
       "                                     1993       1994          0.0  \n",
       "                                     1994       1995          0.0  "
      ]
     },
     "execution_count": 9,
     "metadata": {},
     "output_type": "execute_result"
    }
   ],
   "source": [
    "exp_weights.head()"
   ]
  },
  {
   "cell_type": "code",
   "execution_count": 10,
   "metadata": {},
   "outputs": [
    {
     "name": "stderr",
     "output_type": "stream",
     "text": [
      "/home/cody/Work/risk_distributions/src/risk_distributions/risk_distributions.py:416: RuntimeWarning: overflow encountered in double_scalars\n",
      "  return (m - mean_guess) ** 2 + (s ** 2 - var_guess) ** 2\n",
      "/home/cody/Work/risk_distributions/src/risk_distributions/risk_distributions.py:415: RuntimeWarning: invalid value encountered in double_scalars\n",
      "  var_guess = scale ** 2 * special.gamma(1 + 2 / shape) - mean_guess ** 2\n"
     ]
    }
   ],
   "source": [
    "# Build an EnsembleDistribution Object\n",
    "ensemble_dist = EnsembleDistribution(exp_weights, mean=exp_mean, sd=exp_std)"
   ]
  },
  {
   "cell_type": "code",
   "execution_count": 11,
   "metadata": {},
   "outputs": [],
   "source": [
    "# Example -- create a bunch of people with BMI 30.0. What's the PDF ?\n",
    "# Note X has an index of sexes, age groups and years\n",
    "X = pd.Series(30.0, index=exp_mean.index)\n",
    "probabilities = ensemble_dist.pdf(X)"
   ]
  },
  {
   "cell_type": "code",
   "execution_count": 12,
   "metadata": {},
   "outputs": [
    {
     "data": {
      "text/plain": [
       "sex     age_group_start  age_group_end  year_start  year_end\n",
       "Female  0.0              0.019178       1990        1991       NaN\n",
       "                                        1991        1992       NaN\n",
       "                                        1992        1993       NaN\n",
       "                                        1993        1994       NaN\n",
       "                                        1994        1995       NaN\n",
       "dtype: float64"
      ]
     },
     "execution_count": 12,
     "metadata": {},
     "output_type": "execute_result"
    }
   ],
   "source": [
    "# We get NaN where no data is present -- not failure\n",
    "probabilities.head()"
   ]
  },
  {
   "cell_type": "code",
   "execution_count": 13,
   "metadata": {},
   "outputs": [
    {
     "data": {
      "text/plain": [
       "sex   age_group_start  age_group_end  year_start  year_end\n",
       "Male  95.0             125.0          2013        2014        0.057092\n",
       "                                      2014        2015        0.057176\n",
       "                                      2015        2016        0.057256\n",
       "                                      2016        2017        0.057298\n",
       "                                      2017        2018        0.057267\n",
       "dtype: float64"
      ]
     },
     "execution_count": 13,
     "metadata": {},
     "output_type": "execute_result"
    }
   ],
   "source": [
    "probabilities.tail()"
   ]
  },
  {
   "cell_type": "code",
   "execution_count": 14,
   "metadata": {},
   "outputs": [],
   "source": [
    "# Example -- create a bunch of people with BMI at the median - 50%\n",
    "# Note q has an index of sexes, age groups and years\n",
    "q = pd.Series(0.5, index=exp_mean.index)\n",
    "percentages = ensemble_dist.ppf(q)"
   ]
  },
  {
   "cell_type": "code",
   "execution_count": 15,
   "metadata": {},
   "outputs": [
    {
     "data": {
      "text/plain": [
       "sex     age_group_start  age_group_end  year_start  year_end\n",
       "Female  0.0              0.019178       1990        1991       NaN\n",
       "                                        1991        1992       NaN\n",
       "                                        1992        1993       NaN\n",
       "                                        1993        1994       NaN\n",
       "                                        1994        1995       NaN\n",
       "dtype: float64"
      ]
     },
     "execution_count": 15,
     "metadata": {},
     "output_type": "execute_result"
    }
   ],
   "source": [
    "percentages.head()"
   ]
  },
  {
   "cell_type": "code",
   "execution_count": 16,
   "metadata": {},
   "outputs": [
    {
     "data": {
      "text/plain": [
       "sex   age_group_start  age_group_end  year_start  year_end\n",
       "Male  95.0             125.0          2013        2014        31.161007\n",
       "                                      2014        2015        31.220549\n",
       "                                      2015        2016        31.265810\n",
       "                                      2016        2017        31.298981\n",
       "                                      2017        2018        31.322901\n",
       "dtype: float64"
      ]
     },
     "execution_count": 16,
     "metadata": {},
     "output_type": "execute_result"
    }
   ],
   "source": [
    "percentages.tail()"
   ]
  },
  {
   "cell_type": "code",
   "execution_count": 17,
   "metadata": {},
   "outputs": [
    {
     "data": {
      "application/vnd.jupyter.widget-view+json": {
       "model_id": "a4a70a004ff340e8a002d913eca4e37e",
       "version_major": 2,
       "version_minor": 0
      },
      "text/plain": [
       "interactive(children=(Dropdown(description='age_start', options=(20, 25, 30, 35, 40, 45, 50, 55, 60, 65, 70, 7…"
      ]
     },
     "metadata": {},
     "output_type": "display_data"
    }
   ],
   "source": [
    "#  Example plots\n",
    "# I roughly bounded age and year\n",
    "@widgets.interact()\n",
    "def plot_pdf(age_start=range(20,95,5), year_start=range(1996, 2015), sex=['Male', 'Female']):\n",
    "    index_mask = (sex, age_start, age_start + 5, year_start, year_start + 1)\n",
    "    sample_mean = exp_mean.loc[index_mask]\n",
    "    sample_std = exp_std.loc[index_mask]\n",
    "    sample_weights = exp_weights.loc[index_mask]\n",
    "\n",
    "    sample_ensemble_dist = EnsembleDistribution(sample_weights, mean=sample_mean, sd=sample_std)\n",
    "\n",
    "    x = np.linspace(10, 90, num=100)  # BMI from 10 to 90\n",
    "    q = np.linspace(0.01, 0.99, num=100)  # Percentages from 1 to 99\n",
    "\n",
    "    fig = plt.figure(figsize=(10, 5))\n",
    "    plt.plot(sample_ensemble_dist.pdf(x))\n",
    "\n",
    "    plt.ylim(0.0, 0.15)\n",
    "    plt.title(\"PDF Example Plot\")\n",
    "    plt.ylabel(\"Probability\")\n",
    "    plt.xlabel(\"BMI\")\n",
    "   \n",
    "    plt.show()\n",
    "    \n",
    "    fig = plt.figure(figsize=(10, 5))\n",
    "    plt.plot(sample_ensemble_dist.ppf(q))\n",
    "    \n",
    "    plt.ylim(0.0, 75.0)\n",
    "    plt.title(\"PPF Example plot\")\n",
    "    plt.ylabel('BMI')\n",
    "    plt.xlabel('Percentile')\n",
    "    \n",
    "    plt.show()"
   ]
  },
  {
   "cell_type": "code",
   "execution_count": null,
   "metadata": {},
   "outputs": [],
   "source": []
  },
  {
   "cell_type": "code",
   "execution_count": null,
   "metadata": {},
   "outputs": [],
   "source": []
  },
  {
   "cell_type": "code",
   "execution_count": null,
   "metadata": {},
   "outputs": [],
   "source": []
  },
  {
   "cell_type": "code",
   "execution_count": null,
   "metadata": {},
   "outputs": [],
   "source": []
  }
 ],
 "metadata": {
  "kernelspec": {
   "display_name": "Python 3",
   "language": "python",
   "name": "python3"
  },
  "language_info": {
   "codemirror_mode": {
    "name": "ipython",
    "version": 3
   },
   "file_extension": ".py",
   "mimetype": "text/x-python",
   "name": "python",
   "nbconvert_exporter": "python",
   "pygments_lexer": "ipython3",
   "version": "3.6.6"
  }
 },
 "nbformat": 4,
 "nbformat_minor": 2
}
